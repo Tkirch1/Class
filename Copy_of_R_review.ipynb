{
  "nbformat": 4,
  "nbformat_minor": 0,
  "metadata": {
    "colab": {
      "provenance": [],
      "include_colab_link": true
    },
    "kernelspec": {
      "name": "ir",
      "display_name": "R"
    },
    "language_info": {
      "name": "R"
    }
  },
  "cells": [
    {
      "cell_type": "markdown",
      "metadata": {
        "id": "view-in-github",
        "colab_type": "text"
      },
      "source": [
        "<a href=\"https://colab.research.google.com/github/Tkirch1/Class/blob/class123/Copy_of_R_review.ipynb\" target=\"_parent\"><img src=\"https://colab.research.google.com/assets/colab-badge.svg\" alt=\"Open In Colab\"/></a>"
      ]
    },
    {
      "cell_type": "markdown",
      "source": [
        "# Install any necessary libraries."
      ],
      "metadata": {
        "id": "q0QfUpIy73io"
      }
    },
    {
      "cell_type": "code",
      "source": [
        "install.packages(\"ggplot2\")"
      ],
      "metadata": {
        "id": "_La7hrsH73tK",
        "outputId": "a7b9d75e-3a03-4736-f1fa-a9769525390f",
        "colab": {
          "base_uri": "https://localhost:8080/"
        }
      },
      "execution_count": null,
      "outputs": [
        {
          "output_type": "stream",
          "name": "stderr",
          "text": [
            "Installing package into ‘/usr/local/lib/R/site-library’\n",
            "(as ‘lib’ is unspecified)\n",
            "\n"
          ]
        }
      ]
    },
    {
      "cell_type": "markdown",
      "source": [
        "# Load your libraries."
      ],
      "metadata": {
        "id": "OL92MAS773-q"
      }
    },
    {
      "cell_type": "code",
      "source": [
        "library(\"ggplot2\")"
      ],
      "metadata": {
        "id": "dXeV2wls74Sd"
      },
      "execution_count": null,
      "outputs": []
    },
    {
      "cell_type": "markdown",
      "source": [
        "# Define some variables\n",
        "Create two string variables, one each for species and sample, as well as a character vector called \"conditions\". The latter should contain four elements: 2 strings, both of which should be \"control\" and two of whatever you named your sample variable."
      ],
      "metadata": {
        "id": "QqZ9nMfQ74x-"
      }
    },
    {
      "cell_type": "code",
      "source": [
        "str1 <- \"species\"\n",
        "str2 <- \"sample\"\n",
        "conditions <- c(\"control\", \"control\", str2, str2)\n",
        "print(conditions)\n"
      ],
      "metadata": {
        "id": "kOpp37zQ747M",
        "outputId": "4fed9fc7-5a1b-4901-8435-1e94fbf1c337",
        "colab": {
          "base_uri": "https://localhost:8080/"
        }
      },
      "execution_count": null,
      "outputs": [
        {
          "output_type": "stream",
          "name": "stdout",
          "text": [
            "[1] \"control\" \"control\" \"sample\"  \"sample\" \n"
          ]
        }
      ]
    },
    {
      "cell_type": "markdown",
      "source": [
        "# Use Paste0\n",
        "Suppose you have some files, SRARunTableLow.txt and SRARunTableHigh.txt. Create a variable using paste0 and your sample variable such that your new variable matches these file names when your sample variable is changed to \"high\" or \"low.\""
      ],
      "metadata": {
        "id": "7BGMLgS-75KY"
      }
    },
    {
      "cell_type": "code",
      "source": [
        "sample <- \"High\"\n",
        "\n",
        "new_sample <- paste0(\"SRARunTable\", sample, \".txt\")\n",
        "\n",
        "print(new_sample)\n"
      ],
      "metadata": {
        "id": "tFKuhtqUE7Ef",
        "colab": {
          "base_uri": "https://localhost:8080/"
        },
        "outputId": "97e63821-09e7-491a-b368-9659d6ce41e4"
      },
      "execution_count": null,
      "outputs": [
        {
          "output_type": "stream",
          "name": "stdout",
          "text": [
            "[1] \"SRARunTableHigh.txt\"\n"
          ]
        }
      ]
    },
    {
      "cell_type": "markdown",
      "source": [
        "# Create synthetic data\n",
        "Write two columns of whatever sort of data strikes your fancy and publish it to a csv. Consider the next two exercises when you do this."
      ],
      "metadata": {
        "id": "jTAy8guGLrZ6"
      }
    },
    {
      "cell_type": "code",
      "source": [
        "time <- c(5, 10, 15, 20, 25)\n",
        "rna <- c(10, 20, 30, 40 ,50 )\n",
        "\n",
        "df = data.frame(time, rna)\n",
        "\n",
        "write.csv(df, \"Results.csv\", row.names=FALSE)\n"
      ],
      "metadata": {
        "id": "amLvYlGBLrie"
      },
      "execution_count": null,
      "outputs": []
    },
    {
      "cell_type": "markdown",
      "source": [
        "# Conditional statement\n",
        "Use the read.csv function to import the first column of your CSV if species is set to human, or the second column if species is set to mouse. Assign this data to a variable."
      ],
      "metadata": {
        "id": "7epUmeo5E7Sd"
      }
    },
    {
      "cell_type": "code",
      "source": [
        "species <- \"mouse\"\n",
        "\n",
        "if (species == \"mouse\") {\n",
        "   read.csv(\"Results.csv\") [ ,2 ]\n",
        "}\n",
        "\n",
        "if (species == \"human\") {\n",
        "    read.csv(\"Results.csv\") [ ,1 ]\n",
        "}\n",
        "\n",
        "\n",
        "\n"
      ],
      "metadata": {
        "id": "LrDmjV80FFs5",
        "outputId": "61bf3757-8004-4881-f847-262ab8b46650",
        "colab": {
          "base_uri": "https://localhost:8080/",
          "height": 34
        }
      },
      "execution_count": null,
      "outputs": [
        {
          "output_type": "display_data",
          "data": {
            "text/html": [
              "<style>\n",
              ".list-inline {list-style: none; margin:0; padding: 0}\n",
              ".list-inline>li {display: inline-block}\n",
              ".list-inline>li:not(:last-child)::after {content: \"\\00b7\"; padding: 0 .5ex}\n",
              "</style>\n",
              "<ol class=list-inline><li>10</li><li>20</li><li>30</li><li>40</li><li>50</li></ol>\n"
            ],
            "text/markdown": "1. 10\n2. 20\n3. 30\n4. 40\n5. 50\n\n\n",
            "text/latex": "\\begin{enumerate*}\n\\item 10\n\\item 20\n\\item 30\n\\item 40\n\\item 50\n\\end{enumerate*}\n",
            "text/plain": [
              "[1] 10 20 30 40 50"
            ]
          },
          "metadata": {}
        }
      ]
    },
    {
      "cell_type": "markdown",
      "source": [
        "# Use ggplot\n",
        "Plot the data from your csv using ggplot in whatever format strikes your fancy and is appropriate for the data you chose. Pick some fun colors to use."
      ],
      "metadata": {
        "id": "rikpHQh_FF2n"
      }
    },
    {
      "cell_type": "code",
      "source": [
        "ggplot(data, aes(x=time, y=rna)) +\n",
        "  geom_line(color='green') + geom_point(color='red') + ggtitle(\"RNA Over Time\")\n"
      ],
      "metadata": {
        "id": "xQIfD6EfMDid",
        "outputId": "001d610c-b66d-4c55-a250-b3a76f684164",
        "colab": {
          "base_uri": "https://localhost:8080/",
          "height": 437
        }
      },
      "execution_count": null,
      "outputs": [
        {
          "output_type": "display_data",
          "data": {
            "text/plain": [
              "plot without title"
            ],
            "image/png": "[encoded data removed]"
          },
          "metadata": {
            "image/png": {
              "width": 420,
              "height": 420
            }
          }
        }
      ]
    }
  ]
}